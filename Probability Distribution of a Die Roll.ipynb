{
 "cells": [
  {
   "cell_type": "markdown",
   "metadata": {},
   "source": [
    "# Simulating Random Probabilities with Python"
   ]
  },
  {
   "cell_type": "markdown",
   "metadata": {},
   "source": [
    "## Question:"
   ]
  },
  {
   "cell_type": "markdown",
   "metadata": {},
   "source": [
    "Suppose we are given a six-sided die where the *i*th side has probability $P_{i}$, of coming up on a roll (*i* = 0, 1, ..., 5). Let **P** = ($\\frac{1}{6}$, $\\frac{1}{12}$, $\\frac{1}{3}$, $\\frac{1}{12}$, $\\frac{1}{24}$, $\\frac{1}{24}$) be the vector with ith entry, $P_{i}$. Write code to simulate rolling the die 1000 times (store the sides you roll in a vector). Use the Python Matplotlib 'plt.hist' function to plot a histogram of of the number of times each side of the die is rolled (make sure you specify the bin edges as input to 'hist'). Also calculate the median and mean side that are rolled using the corresponding commands in Python ('np.mean' and 'np.median'). Here is some pseudo-code for the method.\n",
    "\n",
    "1. Store the 'np.cumsum' of P in a vector, 'Psum'\n",
    "2. Sreate a vector, 'sides', with length 10000 to store the sides chosen on each roll.\n",
    "3. for i in range(0, 10000):\n",
    "4. pick a random number, r, and find the index of the first entry in 'Psum' that is greater than or equal to r."
   ]
  },
  {
   "cell_type": "markdown",
   "metadata": {},
   "source": [
    "### Solution:"
   ]
  },
  {
   "cell_type": "markdown",
   "metadata": {},
   "source": [
    "For this problem we're going to need two Python libraries: *numpy* for the mathematical operations and *matplotlib* to draw the histogram."
   ]
  },
  {
   "cell_type": "code",
   "execution_count": 1,
   "metadata": {},
   "outputs": [],
   "source": [
    "import numpy as np\n",
    "from matplotlib import pyplot as plt"
   ]
  },
  {
   "cell_type": "markdown",
   "metadata": {},
   "source": [
    "We then define the probability distribution as given in the problem statement and a rollDie function that will simulate a die being rolled. We'll roll the die 1000 times and store the results. Using these results we can get the mean, median and plot the distribution in a histogram."
   ]
  },
  {
   "cell_type": "code",
   "execution_count": 3,
   "metadata": {},
   "outputs": [
    {
     "name": "stdout",
     "output_type": "stream",
     "text": [
      "Mean: 3.414, Median: 3.0\n"
     ]
    },
    {
     "data": {
      "image/png": "[encoded data removed]",
      "text/plain": [
       "<matplotlib.figure.Figure at 0x2097c477fd0>"
      ]
     },
     "metadata": {},
     "output_type": "display_data"
    }
   ],
   "source": [
    "probability_distribution = getProbabilityDistribution(1/6, 1/12, 1/3, 1/12, 7/24, 1/24) # helper function implemented in last cell\n",
    "\n",
    "rollDie = lambda: np.random.choice(np.arange(1, 7), p=probability_distribution)\n",
    "\n",
    "rolls = np.array([rollDie() for _ in range(1000)])\n",
    "\n",
    "sides, sides_frequencies = np.unique(rolls, return_counts=True)\n",
    "\n",
    "mean, median = np.mean(rolls), np.median(rolls)\n",
    "\n",
    "print(f'Mean: {mean}, Median: {median}')\n",
    "\n",
    "side_distribution = plt.hist(rolls, bins=sides)"
   ]
  },
  {
   "cell_type": "markdown",
   "metadata": {},
   "source": [
    "To find the first cumulative sum greater than a random nuber:"
   ]
  },
  {
   "cell_type": "code",
   "execution_count": 5,
   "metadata": {},
   "outputs": [],
   "source": [
    "cumulative_probabilities = np.cumsum(probability_distribution)\n",
    "\n",
    "random_values = np.random.random((1000,))\n",
    "\n",
    "firstLargerThanRandom = np.array([np.nonzero(cumulative_probabilities >= random_value)[0][0] for random_value in random_values])"
   ]
  },
  {
   "cell_type": "markdown",
   "metadata": {},
   "source": [
    "*Helper code:*"
   ]
  },
  {
   "cell_type": "code",
   "execution_count": 2,
   "metadata": {},
   "outputs": [],
   "source": [
    "# seed the random number generator for reproducible results\n",
    "np.random.seed(440)\n",
    "\n",
    "def getProbabilityDistribution(*probabilities):\n",
    "    '''Ensures that the probabilities being passed in add up to 1. Increments the highest value passed in \n",
    "    by the difference between the sum and 1.\n",
    "    \n",
    "    Args:\n",
    "        *probabilities: A variable length tuple of probabilities\n",
    "        \n",
    "    Throws:\n",
    "        TypeError: When values passed in are not numerical\n",
    "        ValueError: When sum of values passed isn't almost equal to one\n",
    "    \n",
    "    Return:\n",
    "        A list of probabilities that add up to one.\n",
    "    '''\n",
    "    for probability in probabilities:\n",
    "        if type(probability) not in (float, int):\n",
    "            raise TypeError(f'Expected probabilities to be float instead got {type(probability)}')\n",
    "    \n",
    "    TOLERANCE = 0.000001\n",
    "    total = sum(probabilities)\n",
    "    diff = 1 - total\n",
    "    \n",
    "    if total is 1:\n",
    "        return list(probabilities)\n",
    "            \n",
    "    if abs(diff) > TOLERANCE:\n",
    "        raise ValueError(f'Expected sum of probabilities to almost equal 1 instead sum is {sum(probabilities)}')\n",
    "    \n",
    "    largest = max(probabilities)\n",
    "    lyst = list(probabilities)\n",
    "    target = lyst.index(largest)\n",
    "    \n",
    "    if total > 1:\n",
    "        lyst[target] -= diff\n",
    "    else:\n",
    "        lyst[target] += diff\n",
    "    \n",
    "    assert abs(sum(lyst) - 1) < TOLERANCE\n",
    "    \n",
    "    return lyst"
   ]
  }
 ],
 "metadata": {
  "kernelspec": {
   "display_name": "Python 3",
   "language": "python",
   "name": "python3"
  },
  "language_info": {
   "codemirror_mode": {
    "name": "ipython",
    "version": 3
   },
   "file_extension": ".py",
   "mimetype": "text/x-python",
   "name": "python",
   "nbconvert_exporter": "python",
   "pygments_lexer": "ipython3",
   "version": "3.6.4"
  }
 },
 "nbformat": 4,
 "nbformat_minor": 2
}
